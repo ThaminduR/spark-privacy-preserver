{
 "cells": [
  {
   "cell_type": "code",
   "execution_count": 1,
   "metadata": {},
   "outputs": [],
   "source": [
    "from pyspark.sql.types import *\n",
    "from pyspark.sql.functions import PandasUDFType, lit, pandas_udf\n",
    "from pyspark.sql import SparkSession\n",
    "from spark_privacy_preserver.clustering_preserver import Preserver\n",
    "import pandas as pd"
   ]
  },
  {
   "cell_type": "code",
   "execution_count": 2,
   "metadata": {},
   "outputs": [],
   "source": [
    "spark = SparkSession.builder.appName(\"SimpleApp\").getOrCreate()\n",
    "spark.conf.set(\"spark.sql.execution.arrow.enabled\", \"true\")\n",
    "\n",
    "data = [[6, '1', 'test1', 'x', 20],\n",
    "        [6, '1', 'test1', 'y', 30],\n",
    "        [8, '2', 'test2', 'x', 50],\n",
    "        [8, '2', 'test2', 'x', 45],\n",
    "        [4, '1', 'test2', 'y', 35],\n",
    "        [4, '2', 'test3', 'y', 20]]\n",
    "\n",
    "cSchema = StructType([StructField(\"column1\", IntegerType()),\n",
    "                      StructField(\"column2\", StringType()),\n",
    "                      StructField(\"column3\", StringType()),\n",
    "                      StructField(\"column4\", StringType()),\n",
    "                      StructField(\"column5\", IntegerType())])\n",
    "df = spark.createDataFrame(data, schema=cSchema)\n",
    "categorical = set((\n",
    "    'column2',\n",
    "    'column3',\n",
    "    'column4'\n",
    "))"
   ]
  },
  {
   "cell_type": "code",
   "execution_count": 3,
   "metadata": {},
   "outputs": [],
   "source": [
    "QI = ['column1', 'column2', 'column3']\n",
    "CI = [1, 2]\n",
    "SA = ['column4']\n",
    "schema = StructType([\n",
    "    StructField(\"column1\", StringType()),\n",
    "    StructField(\"column2\", StringType()),\n",
    "    StructField(\"column3\", StringType()),\n",
    "    StructField(\"column4\", StringType()),\n",
    "])"
   ]
  },
  {
   "cell_type": "code",
   "execution_count": 4,
   "metadata": {},
   "outputs": [
    {
     "name": "stdout",
     "output_type": "stream",
     "text": [
      "+-------+-------+-----------------+-------+\n",
      "|column1|column2|          column3|column4|\n",
      "+-------+-------+-----------------+-------+\n",
      "|    4-8|    1,2|test1,test2,test3|      x|\n",
      "|    4-8|    1,2|test1,test2,test3|      y|\n",
      "|    4-8|    1,2|test1,test2,test3|      x|\n",
      "|    4-8|    1,2|test1,test2,test3|      x|\n",
      "|    4-8|    1,2|test1,test2,test3|      y|\n",
      "|    4-8|    1,2|test1,test2,test3|      y|\n",
      "+-------+-------+-----------------+-------+\n",
      "\n"
     ]
    }
   ],
   "source": [
    "k_df = Preserver.k_anonymize(\n",
    "        df, schema, QI, SA, CI, k=2, mode='', center_type='fbcg', return_mode='Not_equal', iter=1)\n",
    "k_df.show()"
   ]
  },
  {
   "cell_type": "code",
   "execution_count": 5,
   "metadata": {},
   "outputs": [
    {
     "name": "stdout",
     "output_type": "stream",
     "text": [
      "+-------+-------+-----------------+-------+\n",
      "|column1|column2|          column3|column4|\n",
      "+-------+-------+-----------------+-------+\n",
      "|    4-8|    1,2|test1,test2,test3|      x|\n",
      "|    4-8|    1,2|test1,test2,test3|      y|\n",
      "|    4-8|    1,2|test1,test2,test3|      x|\n",
      "|    4-8|    1,2|test1,test2,test3|      x|\n",
      "|    4-8|    1,2|test1,test2,test3|      y|\n",
      "|    4-8|    1,2|test1,test2,test3|      y|\n",
      "+-------+-------+-----------------+-------+\n",
      "\n"
     ]
    }
   ],
   "source": [
    "l_df = Preserver.l_diverse(k_df,schema, QI, SA, write_to_file=False, l=2)\n",
    "l_df.show()"
   ]
  },
  {
   "cell_type": "code",
   "execution_count": 6,
   "metadata": {},
   "outputs": [
    {
     "name": "stdout",
     "output_type": "stream",
     "text": [
      "+-------+-------+-----------------+-------+\n",
      "|column1|column2|          column3|column4|\n",
      "+-------+-------+-----------------+-------+\n",
      "|    4-6|    1,2|test1,test2,test3|      x|\n",
      "|    4-6|    1,2|test1,test2,test3|      y|\n",
      "|      8|      2|            test2|      x|\n",
      "|      8|      2|            test2|      x|\n",
      "|    4-6|    1,2|test1,test2,test3|      y|\n",
      "|    4-6|    1,2|test1,test2,test3|      y|\n",
      "+-------+-------+-----------------+-------+\n",
      "\n"
     ]
    }
   ],
   "source": [
    "    t_df = Preserver.t_closer(\n",
    "        k_df,schema, QI, SA, t=0.3, write_to_file=False, verbose=1)\n",
    "    t_df.show()"
   ]
  }
 ],
 "metadata": {
  "kernelspec": {
   "display_name": "Python 3",
   "language": "python",
   "name": "python3"
  },
  "language_info": {
   "codemirror_mode": {
    "name": "ipython",
    "version": 3
   },
   "file_extension": ".py",
   "mimetype": "text/x-python",
   "name": "python",
   "nbconvert_exporter": "python",
   "pygments_lexer": "ipython3",
   "version": "3.7.6"
  }
 },
 "nbformat": 4,
 "nbformat_minor": 4
}

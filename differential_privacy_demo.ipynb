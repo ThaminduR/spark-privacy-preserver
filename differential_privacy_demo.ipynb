{
 "cells": [
  {
   "cell_type": "markdown",
   "source": [
    "# Using DPLib\n",
    "\n",
    "The following example will give an insight on how to use this module. Make sure to read the **README.md** \n",
    "file beforehand."
   ],
   "metadata": {
    "collapsed": false
   }
  },
  {
   "cell_type": "markdown",
   "source": [
    "1. Import the following modules"
   ],
   "metadata": {
    "collapsed": false,
    "pycharm": {
     "name": "#%% md\n"
    }
   }
  },
  {
   "cell_type": "code",
   "execution_count": 28,
   "outputs": [],
   "source": [
    "from spark_privacy_preserver.differential_privacy import DPLib\n",
    "from pyspark.sql import SparkSession\n",
    "from pyspark.sql.types import *"
   ],
   "metadata": {
    "collapsed": false,
    "pycharm": {
     "name": "#%%\n",
     "is_executing": false
    }
   }
  },
  {
   "cell_type": "markdown",
   "source": [
    "2. Create a Spark Session. Make sure to enable PyArrow configuration."
   ],
   "metadata": {
    "collapsed": false,
    "pycharm": {
     "name": "#%% md\n"
    }
   }
  },
  {
   "cell_type": "code",
   "execution_count": 29,
   "outputs": [],
   "source": [
    "spark = SparkSession.builder \\\n",
    "    .master('local') \\\n",
    "    .appName('differential_privacy') \\\n",
    "    .config('spark.some.config.option', 'some-value') \\\n",
    "    .getOrCreate()\n",
    "\n",
    "spark.conf.set('spark.sql.execution.arrow.enabled', 'true')"
   ],
   "metadata": {
    "collapsed": false,
    "pycharm": {
     "name": "#%%\n",
     "is_executing": false
    }
   }
  },
  {
   "cell_type": "markdown",
   "source": [
    "3. Create a Spark DataFrame (sdf). \n",
    "\n",
    "Generate an sdf with random values. It is better to manually specify the **schema** of sdf so as to avoid \n",
    "any *TypeErrors*.\n",
    "\n",
    "Here I will generate an sdf with 3 columns: *'Numeric'*, *'Rounded_Numeric'*, *'Boolean'* and 10,000 rows \n",
    "to show 3 ways of using DPLib."
   ],
   "metadata": {
    "collapsed": false
   }
  },
  {
   "cell_type": "code",
   "execution_count": 30,
   "outputs": [
    {
     "name": "stdout",
     "text": [
      "+---------+------------------+-------+\n|   Number|    Rounded_Number|Boolean|\n+---------+------------------+-------+\n| 77391.77|   34047.105002547|     no|\n|61374.562| 89094.70686556514|     no|\n| 66920.63| 47785.16434480662|    yes|\n|14550.881|12629.603616747756|    yes|\n| 44229.82|  78697.7046743743|     no|\n+---------+------------------+-------+\nonly showing top 5 rows\n\n"
     ],
     "output_type": "stream"
    }
   ],
   "source": [
    "from random import random, randint, choice\n",
    "\n",
    "# generate a row with random numbers of range(0, 100000) and random strings of either 'yes' or 'no'\n",
    "def generate_rand_tuple():\n",
    "    number_1 = randint(0, 100000) + random()\n",
    "    number_2 = randint(0, 100000) + random()\n",
    "    string = choice(['yes', 'no'])\n",
    "    return number_1, number_2, string\n",
    "\n",
    "data = [generate_rand_tuple() for _ in range(100000)]\n",
    "\n",
    "schema = StructType([\n",
    "    StructField('Number', FloatType()),\n",
    "    StructField('Rounded_Number', DoubleType()),\n",
    "    StructField('Boolean', StringType())\n",
    "])\n",
    "\n",
    "sdf = spark.createDataFrame(data=data, schema=schema)\n",
    "sdf.show(n=5)"
   ],
   "metadata": {
    "collapsed": false,
    "pycharm": {
     "name": "#%%\n",
     "is_executing": false
    }
   }
  },
  {
   "cell_type": "markdown",
   "source": [
    "4. Setup and configure **DPLib**\n",
    "\n",
    "DPLib can work with numbers and binary strings. To anonymize a number based column, you have to setup the column \n",
    "category as *'numeric'*. To anonymize a string based column, you have to setup the column category as *'boolean'*.\n",
    "\n",
    "4.1 Initializing the module\n",
    "\n",
    "The module takes in 3 optional parameters when initializing: *Spark DataFrame*, *epsilon* and *delta*. Module can also \n",
    "be initialized without any parameters and they can be added later."
   ],
   "metadata": {
    "collapsed": false,
    "pycharm": {
     "name": "#%% md\n"
    }
   }
  },
  {
   "cell_type": "code",
   "execution_count": 31,
   "outputs": [],
   "source": [
    "epsilon = 0.00001\n",
    "delta = 0.5\n",
    "sensitivity = 10\n",
    "\n",
    "# method 1\n",
    "dp = DPLib(global_epsilon=epsilon, global_delta=delta, sdf=sdf)\n",
    "dp.set_global_sensitivity(sensitivity=sensitivity)\n",
    "\n",
    "# method 2\n",
    "dp = DPLib()\n",
    "dp.set_sdf(sdf=sdf)\n",
    "dp.set_global_epsilon_delta(epsilon=epsilon, delta=delta)\n",
    "dp.set_global_sensitivity(sensitivity=sensitivity)"
   ],
   "metadata": {
    "collapsed": false,
    "pycharm": {
     "name": "#%%\n",
     "is_executing": false
    }
   }
  },
  {
   "cell_type": "markdown",
   "source": [
    "**Note:** The reason behind the word *global* in above functions\n",
    "\n",
    "Suppose the user want to anonymize 3 columns of a DataFrame with same epsilon, delta and sensitivity and another \n",
    "column with different parameters. Now all the user has to do is to set up global parameters for 3 columns and \n",
    "local parameters for 4th column. \n",
    "\n",
    "This will simplify when multiple columns of a DataFrame have to be processed with same parameters."
   ],
   "metadata": {
    "collapsed": false
   }
  },
  {
   "cell_type": "markdown",
   "source": [
    "4.2 Configuring columns\n",
    "\n",
    "User can configure columns with column specific parameters. Column specific parameters will be given higher priority \n",
    "over global parameters if explicitly specified.\n",
    "\n",
    "parameters that can be applied to method *set_column()*:\n",
    "1. column_name: name of column as string -> compulsory\n",
    "2. category: category of column. can be either *'numeric'* or *'boolean'* -> compulsory\n",
    "3. epsilon: column specific value -> optional\n",
    "4. delta: column specific value -> optional\n",
    "5. sensitivity: column specific value -> optional\n",
    "6. lower_bound: set minimum number a column can have. can only be applied to category *'numeric'* -> optional\n",
    "7. upper_bound: set maximum number a column can have. can only be applied to category *'numeric'* -> optional\n",
    "8. label1: string label for a column. can only be applied to category *'binary'* -> optional\n",
    "9. label2: string label for a column. can only be applied to category *'binary'* -> optional\n",
    "10. round: value by which to round the result. can only be applied to category *'numeric'* -> optional"
   ],
   "metadata": {
    "collapsed": false,
    "pycharm": {
     "name": "#%% md\n"
    }
   }
  },
  {
   "cell_type": "code",
   "execution_count": 32,
   "outputs": [
    {
     "data": {
      "text/plain": "{'Number': {'category': 'numeric',\n  'epsilon': 1e-05,\n  'delta': 0.5,\n  'sensitivity': 10.0,\n  'lower_bound': -inf,\n  'upper_bound': inf},\n 'Rounded_Number': {'category': 'numeric',\n  'epsilon': 0.0001,\n  'delta': 0.5,\n  'sensitivity': 100,\n  'lower_bound': 10001,\n  'upper_bound': 89996,\n  'round': 2},\n 'Boolean': {'category': 'boolean',\n  'epsilon': 1e-05,\n  'delta': 0.5,\n  'label1': 'yes',\n  'label2': 'no'}}"
     },
     "metadata": {},
     "output_type": "execute_result",
     "execution_count": 32
    }
   ],
   "source": [
    "dp.set_column(column_name='Number', \n",
    "              category='numeric')\n",
    "# epsilon, delta, sensitivity will be taken from global parameters and applied.\n",
    "\n",
    "dp.set_column(column_name='Rounded_Number', \n",
    "              category='numeric',\n",
    "              epsilon=epsilon * 10,\n",
    "              sensitivity=sensitivity * 10,\n",
    "              lower_bound=round(sdf.agg({'Rounded_Number': 'min'}).collect()[0][0]) + 10000,\n",
    "              upper_bound=round(sdf.agg({'Rounded_Number': 'max'}).collect()[0][0]) - 10000,\n",
    "              round=2)\n",
    "# epsilon, sensitivity will be taken from user input instead of global parameters\n",
    "# delta will be taken from global parameters.\n",
    "\n",
    "dp.set_column(column_name='Boolean',\n",
    "              category='boolean',\n",
    "              label1='yes',\n",
    "              label2='no',\n",
    "              delta=delta if 0 < delta <= 1 else 0.5)\n",
    "# sensitivity will be taken from user input instead of global parameters\n",
    "# epsilon will be taken from global parameters.\n",
    "# 'boolean' category does not require delta\n",
    "\n",
    "dp._DPLib__columns"
   ],
   "metadata": {
    "collapsed": false,
    "pycharm": {
     "name": "#%%\n",
     "is_executing": false
    }
   }
  },
  {
   "cell_type": "code",
   "execution_count": 33,
   "outputs": [
    {
     "name": "stdout",
     "text": [
      "+---------+------------------+-------+\n|   Number|    Rounded_Number|Boolean|\n+---------+------------------+-------+\n| 77391.77|   34047.105002547|     no|\n|61374.562| 89094.70686556514|     no|\n| 66920.63| 47785.16434480662|    yes|\n|14550.881|12629.603616747756|    yes|\n| 44229.82|  78697.7046743743|     no|\n| 82369.41| 5027.197073559283|     no|\n| 6766.433|41277.034957622265|    yes|\n| 83687.21|2019.5131135399351|    yes|\n|64917.688| 43242.46957918877|     no|\n|19749.406| 49258.40116803559|    yes|\n| 69409.87| 95086.91701721387|     no|\n|75147.336|44932.009846521185|     no|\n| 94721.16| 65963.62587085899|     no|\n| 99854.82| 5271.490102718549|     no|\n|18581.574| 58140.01138360419|    yes|\n|38670.258| 59188.31424985303|     no|\n|14128.792| 40828.38516408285|     no|\n| 4126.956|31656.208579684953|    yes|\n|15569.393|  85416.3651050184|     no|\n|38067.434|12620.165607078798|     no|\n+---------+------------------+-------+\nonly showing top 20 rows\n\n",
      "+------------------+--------------+-------+\n|            Number|Rounded_Number|Boolean|\n+------------------+--------------+-------+\n| 77426.47460295224|      33991.06|     no|\n| 61354.07251859182|      89325.63|    yes|\n| 66926.94418706976|      47759.68|    yes|\n|14581.593601490804|      12632.64|    yes|\n| 44280.96610645997|       78819.7|    yes|\n| 82367.71300389855|       10001.0|     no|\n| 6753.049603390942|      41568.33|    yes|\n| 83665.80274087365|       10001.0|    yes|\n| 64905.48274521612|      43162.52|     no|\n|19737.807312215027|      49226.44|    yes|\n| 69412.03192865915|       89996.0|     no|\n| 75143.64563596662|      44717.71|    yes|\n| 94729.61986330838|      65968.92|     no|\n|  99853.3975179573|       10001.0|    yes|\n|18591.385385049784|      58262.52|    yes|\n| 38604.44754583229|      59431.47|     no|\n|14136.163934833217|      41047.03|    yes|\n| 4116.782275132123|      32088.28|    yes|\n|15563.532592105816|      85444.22|     no|\n|  38058.6627478749|      12797.04|     no|\n+------------------+--------------+-------+\nonly showing top 20 rows\n\n"
     ],
     "output_type": "stream"
    }
   ],
   "source": [
    "# gets first 20 rows of DataFrame before anonymizing and after anonymizing\n",
    "sdf.show()\n",
    "\n",
    "dp.execute()\n",
    "\n",
    "dp.sdf.show()"
   ],
   "metadata": {
    "collapsed": false,
    "pycharm": {
     "name": "#%%\n",
     "is_executing": false
    }
   }
  },
  {
   "cell_type": "markdown",
   "source": [
    "As you can see, there is a clear difference between original DataFrame and anonymized DataFrame.\n",
    "\n",
    "1. Column *'Number'* is anonymized but the values are not bound to a certain range. The algorithm produces the result \n",
    "with maximum precision as it can achieve.\n",
    "\n",
    "2. Column *'Rounded_Number'* is both anonymized and bounded to the values set by user. As you can see, the values \n",
    "never rise above upper bound and never become lower than lower bound. Also they are rounded to 2nd decimal place as set.\n",
    "\n",
    "3. Column *'Boolean'* undergoes through a mechanism that randomly decides to flip to the other binary value or not, \n",
    "in order to satisfy differential privacy.\n"
   ],
   "metadata": {
    "collapsed": false,
    "pycharm": {
     "name": "#%% md\n",
     "is_executing": false
    }
   }
  }
 ],
 "metadata": {
  "kernelspec": {
   "name": "pycharm-b2afa515",
   "language": "python",
   "display_name": "PyCharm (spark-privacy-preserver)"
  },
  "language_info": {
   "codemirror_mode": {
    "name": "ipython",
    "version": 2
   },
   "file_extension": ".py",
   "mimetype": "text/x-python",
   "name": "python",
   "nbconvert_exporter": "python",
   "pygments_lexer": "ipython2",
   "version": "2.7.6"
  },
  "pycharm": {
   "stem_cell": {
    "cell_type": "raw",
    "source": [],
    "metadata": {
     "collapsed": false
    }
   }
  }
 },
 "nbformat": 4,
 "nbformat_minor": 0
}
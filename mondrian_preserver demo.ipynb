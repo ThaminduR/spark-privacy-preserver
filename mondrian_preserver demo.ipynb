{
 "cells": [
  {
   "cell_type": "code",
   "execution_count": 1,
   "metadata": {},
   "outputs": [],
   "source": [
    "from pyspark.sql import SparkSession\n",
    "from pyspark.sql.types import *\n",
    "from spark_privacy_preserver.mondrian_preserver import Preserver"
   ]
  },
  {
   "cell_type": "code",
   "execution_count": 2,
   "metadata": {},
   "outputs": [],
   "source": [
    "spark = SparkSession.builder.appName(\"SimpleApp\").getOrCreate()\n",
    "spark.conf.set(\"spark.sql.execution.arrow.enabled\", \"true\")"
   ]
  },
  {
   "cell_type": "code",
   "execution_count": 3,
   "metadata": {},
   "outputs": [
    {
     "name": "stdout",
     "output_type": "stream",
     "text": [
      "+-------+-------+-------+-------+-------+\n",
      "|column1|column2|column3|column4|column5|\n",
      "+-------+-------+-------+-------+-------+\n",
      "|      6|      1|  test1|      x|     20|\n",
      "|      6|      1|  test1|      y|     30|\n",
      "|      8|      2|  test2|      x|     50|\n",
      "|      8|      2|  test3|      x|     45|\n",
      "|      8|      1|  test2|      y|     35|\n",
      "|      4|      2|  test3|      y|     20|\n",
      "+-------+-------+-------+-------+-------+\n",
      "\n"
     ]
    }
   ],
   "source": [
    "data = [[6, '1', 'test1', 'x', 20],\n",
    "        [6, '1', 'test1', 'y', 30],\n",
    "        [8, '2', 'test2', 'x', 50],\n",
    "        [8, '2', 'test3', 'x', 45],\n",
    "        [8, '1', 'test2', 'y', 35],\n",
    "        [4, '2', 'test3', 'y', 20]]\n",
    "\n",
    "cSchema = StructType([StructField(\"column1\", IntegerType()),\n",
    "                      StructField(\"column2\", StringType()),\n",
    "                      StructField(\"column3\", StringType()),\n",
    "                      StructField(\"column4\", StringType()),\n",
    "                      StructField(\"column5\", IntegerType())])\n",
    "df = spark.createDataFrame(data, schema=cSchema)\n",
    "df.show()"
   ]
  },
  {
   "cell_type": "code",
   "execution_count": 4,
   "metadata": {},
   "outputs": [
    {
     "name": "stdout",
     "output_type": "stream",
     "text": [
      "+-------+-------+-----------+-------+-----+\n",
      "|column1|column2|    column3|column4|count|\n",
      "+-------+-------+-----------+-------+-----+\n",
      "|   0-10|    1,2|test3,test1|      x|    1|\n",
      "|   0-10|    1,2|test3,test1|      y|    2|\n",
      "|      8|    1,2|test3,test2|      x|    2|\n",
      "|      8|    1,2|test3,test2|      y|    1|\n",
      "+-------+-------+-----------+-------+-----+\n",
      "\n"
     ]
    }
   ],
   "source": [
    "#K-Anonymity \n",
    "\n",
    "# variables\n",
    "categorical = set((\n",
    "    'column2',\n",
    "    'column3',\n",
    "    'column4'\n",
    "))\n",
    "sensitive_column = 'column4'\n",
    "feature_columns = ['column1', 'column2', 'column3']\n",
    "schema = StructType([\n",
    "    StructField(\"column1\", StringType()),\n",
    "    StructField(\"column2\", StringType()),\n",
    "    StructField(\"column3\", StringType()),\n",
    "    StructField(\"column4\", StringType()),\n",
    "    StructField(\"count\", IntegerType()),\n",
    "])\n",
    "k = 2\n",
    "\n",
    "# anonymizing\n",
    "dfn = Preserver.k_anonymize(\n",
    "    df, k, feature_columns, sensitive_column, categorical, schema)\n",
    "dfn.show()"
   ]
  },
  {
   "cell_type": "code",
   "execution_count": 5,
   "metadata": {},
   "outputs": [
    {
     "name": "stdout",
     "output_type": "stream",
     "text": [
      "+-------+-------+-----------+-------+-------+\n",
      "|column1|column2|    column3|column4|column5|\n",
      "+-------+-------+-----------+-------+-------+\n",
      "|      6|      1|test1,test2|      x|  20-40|\n",
      "|      6|      1|test1,test2|      y|  20-40|\n",
      "|      8|      1|test1,test2|      y|  20-40|\n",
      "|      8|      2|test2,test3|      x|  20-55|\n",
      "|      8|      2|test2,test3|      x|  20-55|\n",
      "|      4|      2|test2,test3|      y|  20-55|\n",
      "+-------+-------+-----------+-------+-------+\n",
      "\n"
     ]
    }
   ],
   "source": [
    "#K-Anonymity without row suppresion\n",
    "\n",
    "# variables\n",
    "categorical = set((\n",
    "    'column2',\n",
    "    'column3',\n",
    "    'column4'\n",
    "))\n",
    "sensitive_column = 'column4'\n",
    "feature_columns = ['column2', 'column3', 'column5']\n",
    "schema = StructType([\n",
    "    StructField(\"column1\", IntegerType()),\n",
    "    StructField(\"column2\", StringType()),\n",
    "    StructField(\"column3\", StringType()),\n",
    "    StructField(\"column4\", StringType()),\n",
    "    StructField(\"column5\", StringType()),\n",
    "])\n",
    "\n",
    "k = 2\n",
    "\n",
    "# anonymizing\n",
    "dfn = Preserver.k_anonymize_w_user(\n",
    "    df, k, feature_columns, sensitive_column, categorical, schema)\n",
    "dfn.show()"
   ]
  },
  {
   "cell_type": "code",
   "execution_count": 6,
   "metadata": {},
   "outputs": [
    {
     "name": "stdout",
     "output_type": "stream",
     "text": [
      "+-------+-------+-----------+-------+-------+\n",
      "|column1|column2|    column3|column4|column5|\n",
      "+-------+-------+-----------+-------+-------+\n",
      "|      6|      1|test1,test2|      x|  20-40|\n",
      "|      6|      1|test1,test2|      y|  20-40|\n",
      "|      8|      2|      test2|      x|     50|\n",
      "|      8|      2|      test3|      x|     45|\n",
      "|      8|      1|test1,test2|      y|  20-40|\n",
      "|      4|      2|      test3|      y|     20|\n",
      "+-------+-------+-----------+-------+-------+\n",
      "\n"
     ]
    }
   ],
   "source": [
    "#Single user anonymization\n",
    "\n",
    "# variables\n",
    "categorical = set((\n",
    "    'column2',\n",
    "    'column3',\n",
    "    'column4'\n",
    "))\n",
    "sensitive_column = 'column4'\n",
    "schema = StructType([\n",
    "    StructField(\"column1\", StringType()),\n",
    "    StructField(\"column2\", StringType()),\n",
    "    StructField(\"column3\", StringType()),\n",
    "    StructField(\"column4\", StringType()),\n",
    "    StructField(\"column5\", StringType()),\n",
    "])\n",
    "user = 6\n",
    "usercolumn_name = \"column1\"\n",
    "k = 2\n",
    "\n",
    "# anonymizing\n",
    "dfn = Preserver.anonymize_user(\n",
    "    df, k, user, usercolumn_name, sensitive_column, categorical, schema)\n",
    "dfn.show()"
   ]
  },
  {
   "cell_type": "code",
   "execution_count": null,
   "metadata": {},
   "outputs": [],
   "source": []
  }
 ],
 "metadata": {
  "kernelspec": {
   "display_name": "Python 3",
   "language": "python",
   "name": "python3"
  },
  "language_info": {
   "codemirror_mode": {
    "name": "ipython",
    "version": 3
   },
   "file_extension": ".py",
   "mimetype": "text/x-python",
   "name": "python",
   "nbconvert_exporter": "python",
   "pygments_lexer": "ipython3",
   "version": "3.7.6"
  }
 },
 "nbformat": 4,
 "nbformat_minor": 4
}

{
 "cells": [
  {
   "cell_type": "markdown",
   "source": [
    "# Using DPLib\n",
    "\n",
    "The following example will give an insight on how to use this module. Make sure to read the **README.md** \n",
    "file beforehand.\n",
    "\n",
    "1. Create a Spark Session. Make sure to enable PyArrow configuration."
   ],
   "metadata": {
    "collapsed": false
   }
  },
  {
   "cell_type": "code",
   "execution_count": 22,
   "outputs": [],
   "source": [
    "from pyspark.sql import SparkSession\n",
    "\n",
    "spark = SparkSession.builder \\\n",
    "    .master('local') \\\n",
    "    .appName('differential_privacy') \\\n",
    "    .config('spark.some.config.option', 'some-value') \\\n",
    "    .getOrCreate()\n",
    "\n",
    "spark.conf.set('spark.sql.execution.arrow.enabled', 'true')"
   ],
   "metadata": {
    "collapsed": false,
    "pycharm": {
     "name": "#%%\n",
     "is_executing": false
    }
   }
  },
  {
   "cell_type": "markdown",
   "source": [
    "2. Create a Spark DataFrame (sdf). \n",
    "\n",
    "Generate an sdf with random values. It is better to manually specify the **schema** of sdf so as to avoid \n",
    "any *TypeErrors*.\n",
    "\n",
    "Here I will generate an sdf with 3 columns: *'Numeric'*, *'Rounded_Numeric'*, *'Boolean'* and 10,000 rows \n",
    "to show 3 ways of using DPLib."
   ],
   "metadata": {
    "collapsed": false
   }
  },
  {
   "cell_type": "code",
   "execution_count": 23,
   "outputs": [
    {
     "name": "stdout",
     "text": [
      "+---------+------------------+-------+\n|   Number|    Rounded_Number|Boolean|\n+---------+------------------+-------+\n|13902.802| 31353.69136699013|     no|\n|47981.105| 68834.91309187686|    yes|\n|60204.273| 81877.80302308501|    yes|\n|64228.676|35953.110019263695|    yes|\n| 70011.09| 75788.51794503657|    yes|\n+---------+------------------+-------+\nonly showing top 5 rows\n\n"
     ],
     "output_type": "stream"
    }
   ],
   "source": [
    "from random import random, randint, choice\n",
    "from pyspark.sql.types import *\n",
    "\n",
    "# generate a row with random numbers of range(0, 100000) and random strings of either 'yes' or 'no'\n",
    "def generate_rand_tuple():\n",
    "    number_1 = randint(0, 100000) + random()\n",
    "    number_2 = randint(0, 100000) + random()\n",
    "    string = choice(['yes', 'no'])\n",
    "    return number_1, number_2, string\n",
    "\n",
    "data = [generate_rand_tuple() for _ in range(100000)]\n",
    "\n",
    "schema = StructType([\n",
    "    StructField('Number', FloatType()),\n",
    "    StructField('Rounded_Number', DoubleType()),\n",
    "    StructField('Boolean', StringType())\n",
    "])\n",
    "\n",
    "sdf = spark.createDataFrame(data=data, schema=schema)\n",
    "sdf.show(n=5)"
   ],
   "metadata": {
    "collapsed": false,
    "pycharm": {
     "name": "#%%\n",
     "is_executing": false
    }
   }
  },
  {
   "cell_type": "markdown",
   "source": [
    "3. Setup and configure **DPLib**\n",
    "\n",
    "DPLib can work with numbers and binary strings. To anonymize a number based column, you have to setup the column \n",
    "category as *'numeric'*. To anonymize a string based column, you have to setup the column category as *'boolean'*.\n",
    "\n",
    "3.1 Initializing the module\n",
    "\n",
    "The module takes in 3 optional parameters when initializing: *Spark DataFrame*, *epsilon* and *delta*. Module can also \n",
    "be initialized without any parameters and they can be added later."
   ],
   "metadata": {
    "collapsed": false,
    "pycharm": {
     "name": "#%% md\n"
    }
   }
  },
  {
   "cell_type": "code",
   "execution_count": 24,
   "outputs": [],
   "source": [
    "from spark_privacy_preserver.differential_privacy import DPLib\n",
    "\n",
    "epsilon = 0.00001\n",
    "delta = 0.5\n",
    "sensitivity = 10\n",
    "\n",
    "# method 1\n",
    "dp = DPLib(global_epsilon=epsilon, global_delta=delta, sdf=sdf)\n",
    "dp.set_global_sensitivity(sensitivity=sensitivity)\n",
    "\n",
    "# method 2\n",
    "dp = DPLib()\n",
    "dp.set_sdf(sdf=sdf)\n",
    "dp.set_global_epsilon_delta(epsilon=epsilon, delta=delta)\n",
    "dp.set_global_sensitivity(sensitivity=sensitivity)"
   ],
   "metadata": {
    "collapsed": false,
    "pycharm": {
     "name": "#%%\n",
     "is_executing": false
    }
   }
  },
  {
   "cell_type": "markdown",
   "source": [
    "**Note:** The reason behind the word *global* in above functions\n",
    "\n",
    "Suppose the user want to anonymize 3 columns of a DataFrame with same epsilon, delta and sensitivity and another \n",
    "column with different parameters. Now all the user has to do is to set up global parameters for 3 columns and \n",
    "local parameters for 4th column. \n",
    "\n",
    "This will simplify when multiple columns of a DataFrame have to be processed with same parameters."
   ],
   "metadata": {
    "collapsed": false
   }
  },
  {
   "cell_type": "markdown",
   "source": [
    "3.2 Configuring columns\n",
    "\n",
    "User can configure columns with column specific parameters. Column specific parameters will be given higher priority \n",
    "over global parameters if explicitly specified.\n",
    "\n",
    "parameters that can be applied to method *set_column()*:\n",
    "1. column_name: name of column as string -> compulsory\n",
    "2. category: category of column. can be either *'numeric'* or *'boolean'* -> compulsory\n",
    "3. epsilon: column specific value -> optional\n",
    "4. delta: column specific value -> optional\n",
    "5. sensitivity: column specific value -> optional\n",
    "6. lower_bound: set minimum number a column can have. can only be applied to category *'numeric'* -> optional\n",
    "7. upper_bound: set maximum number a column can have. can only be applied to category *'numeric'* -> optional\n",
    "8. label1: string label for a column. can only be applied to category *'binary'* -> optional\n",
    "9. label2: string label for a column. can only be applied to category *'binary'* -> optional\n",
    "10. round: value by which to round the result. can only be applied to category *'numeric'* -> optional"
   ],
   "metadata": {
    "collapsed": false,
    "pycharm": {
     "name": "#%% md\n"
    }
   }
  },
  {
   "cell_type": "code",
   "execution_count": 25,
   "outputs": [
    {
     "data": {
      "text/plain": "{'Number': {'category': 'numeric',\n  'epsilon': 1e-05,\n  'delta': 0.5,\n  'sensitivity': 10.0,\n  'lower_bound': -inf,\n  'upper_bound': inf},\n 'Rounded_Number': {'category': 'numeric',\n  'epsilon': 0.0001,\n  'delta': 0.5,\n  'sensitivity': 100,\n  'lower_bound': 10001,\n  'upper_bound': 90000,\n  'round': 2},\n 'Boolean': {'category': 'boolean',\n  'epsilon': 1e-05,\n  'delta': 0.5,\n  'label1': 'yes',\n  'label2': 'no'}}"
     },
     "metadata": {},
     "output_type": "execute_result",
     "execution_count": 25
    }
   ],
   "source": [
    "dp.set_column(column_name='Number', \n",
    "              category='numeric')\n",
    "# epsilon, delta, sensitivity will be taken from global parameters and applied.\n",
    "\n",
    "dp.set_column(column_name='Rounded_Number', \n",
    "              category='numeric',\n",
    "              epsilon=epsilon * 10,\n",
    "              sensitivity=sensitivity * 10,\n",
    "              lower_bound=round(sdf.agg({'Rounded_Number': 'min'}).collect()[0][0]) + 10000,\n",
    "              upper_bound=round(sdf.agg({'Rounded_Number': 'max'}).collect()[0][0]) - 10000,\n",
    "              round=2)\n",
    "# epsilon, sensitivity will be taken from user input instead of global parameters\n",
    "# delta will be taken from global parameters.\n",
    "\n",
    "dp.set_column(column_name='Boolean',\n",
    "              category='boolean',\n",
    "              label1='yes',\n",
    "              label2='no',\n",
    "              delta=delta if 0 < delta <= 1 else 0.5)\n",
    "# sensitivity will be taken from user input instead of global parameters\n",
    "# epsilon will be taken from global parameters.\n",
    "# 'boolean' category does not require delta\n",
    "\n",
    "dp._DPLib__columns"
   ],
   "metadata": {
    "collapsed": false,
    "pycharm": {
     "name": "#%%\n",
     "is_executing": false
    }
   }
  },
  {
   "cell_type": "markdown",
   "source": [
    "3.3 Executing"
   ],
   "metadata": {
    "collapsed": false,
    "pycharm": {
     "name": "#%% md\n"
    }
   }
  },
  {
   "cell_type": "code",
   "execution_count": 26,
   "outputs": [
    {
     "name": "stdout",
     "text": [
      "+---------+------------------+-------+\n|   Number|    Rounded_Number|Boolean|\n+---------+------------------+-------+\n|13902.802| 31353.69136699013|     no|\n|47981.105| 68834.91309187686|    yes|\n|60204.273| 81877.80302308501|    yes|\n|64228.676|35953.110019263695|    yes|\n| 70011.09| 75788.51794503657|    yes|\n| 99752.21| 50760.48740300147|    yes|\n| 86869.63|60107.488676431756|    yes|\n| 91393.24| 7999.740205393918|     no|\n| 9375.814| 80429.83347133768|    yes|\n| 34355.03|  60653.4983826984|    yes|\n|39051.484| 75458.52288732739|    yes|\n| 87730.96| 69362.40458260445|    yes|\n|96138.164| 77406.13668804684|     no|\n| 48808.48| 572.0692476751952|     no|\n|75877.016| 24082.38279158265|    yes|\n| 84202.59| 38669.04868211763|     no|\n|  84188.4| 80771.03846675677|     no|\n| 44024.04| 89973.83146830778|     no|\n|64250.305|29536.825597029565|     no|\n|48431.395|  78666.1477643526|     no|\n+---------+------------------+-------+\nonly showing top 20 rows\n\n",
      "+------------------+--------------+-------+\n|            Number|Rounded_Number|Boolean|\n+------------------+--------------+-------+\n|13888.900095851901|      31332.43|     no|\n| 47977.28185924787|      69317.42|    yes|\n|60212.950670166094|      81766.58|     no|\n|64234.377868279116|      36080.98|    yes|\n| 70025.42013207391|      75826.08|    yes|\n| 99739.53046054156|      50791.73|    yes|\n| 86864.54430016835|      60301.89|    yes|\n| 91393.57844584371|       10001.0|     no|\n| 9361.478844350275|      79740.49|    yes|\n| 34355.89365711601|      60914.91|    yes|\n| 39053.26406988634|      75418.12|    yes|\n| 87728.48565260025|      69859.61|    yes|\n| 96128.98147911938|      77487.84|     no|\n| 48813.55904705928|       10001.0|    yes|\n| 75882.92207268749|      24038.38|    yes|\n| 84202.67736798257|       38826.5|     no|\n| 84240.21487650587|      80823.91|     no|\n| 44002.52047637852|      89687.37|     no|\n| 64253.32848716338|      29498.91|    yes|\n| 48420.11402118257|      78654.58|    yes|\n+------------------+--------------+-------+\nonly showing top 20 rows\n\n"
     ],
     "output_type": "stream"
    }
   ],
   "source": [
    "# gets first 20 rows of DataFrame before anonymizing and after anonymizing\n",
    "sdf.show()\n",
    "\n",
    "dp.execute()\n",
    "\n",
    "dp.sdf.show()"
   ],
   "metadata": {
    "collapsed": false,
    "pycharm": {
     "name": "#%%\n",
     "is_executing": false
    }
   }
  },
  {
   "cell_type": "markdown",
   "source": [
    "As you can see, there is a clear difference between original DataFrame and anonymized DataFrame.\n",
    "\n",
    "1. Column *'Number'* is anonymized but the values are not bound to a certain range. The algorithm produces the result \n",
    "with maximum precision as it can achieve.\n",
    "\n",
    "2. Column *'Rounded_Number'* is both anonymized and bounded to the values set by user. As you can see, the values \n",
    "never rise above upper bound and never become lower than lower bound. Also they are rounded to 2nd decimal place as set.\n",
    "\n",
    "3. Column *'Boolean'* undergoes through a mechanism that randomly decides to flip to the other binary value or not, \n",
    "in order to satisfy differential privacy.\n"
   ],
   "metadata": {
    "collapsed": false,
    "pycharm": {
     "name": "#%% md\n",
     "is_executing": false
    }
   }
  }
 ],
 "metadata": {
  "kernelspec": {
   "name": "pycharm-b2afa515",
   "language": "python",
   "display_name": "PyCharm (spark-privacy-preserver)"
  },
  "language_info": {
   "codemirror_mode": {
    "name": "ipython",
    "version": 2
   },
   "file_extension": ".py",
   "mimetype": "text/x-python",
   "name": "python",
   "nbconvert_exporter": "python",
   "pygments_lexer": "ipython2",
   "version": "2.7.6"
  },
  "pycharm": {
   "stem_cell": {
    "cell_type": "raw",
    "source": [],
    "metadata": {
     "collapsed": false
    }
   }
  }
 },
 "nbformat": 4,
 "nbformat_minor": 0
}
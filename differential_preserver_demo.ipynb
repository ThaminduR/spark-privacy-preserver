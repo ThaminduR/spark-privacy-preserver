{
 "cells": [
  {
   "cell_type": "markdown",
   "source": [
    "# Using DPLib\n",
    "\n",
    "The following example will give an insight on how to use this module. Make sure to read the **README.md** \n",
    "file beforehand.\n",
    "\n",
    "1. Create a Spark Session. Make sure to enable PyArrow configuration."
   ],
   "metadata": {
    "collapsed": false
   }
  },
  {
   "cell_type": "code",
   "execution_count": 1,
   "outputs": [],
   "source": [
    "from pyspark.sql import SparkSession\n",
    "\n",
    "spark = SparkSession.builder \\\n",
    "    .master('local') \\\n",
    "    .appName('differential_privacy') \\\n",
    "    .config('spark.some.config.option', 'some-value') \\\n",
    "    .getOrCreate()\n",
    "\n",
    "spark.conf.set('spark.sql.execution.arrow.enabled', 'true')"
   ],
   "metadata": {
    "collapsed": false,
    "pycharm": {
     "name": "#%%\n",
     "is_executing": false
    }
   }
  },
  {
   "cell_type": "markdown",
   "source": [
    "2. Create a Spark DataFrame (sdf). \n",
    "\n",
    "Generate an sdf with random values. It is better to manually specify the **schema** of sdf so as to avoid \n",
    "any *TypeErrors*.\n",
    "\n",
    "Here I will generate an sdf with 3 columns: *'Numeric'*, *'Rounded_Numeric'*, *'Boolean'* and 10,000 rows \n",
    "to show 3 ways of using DPLib."
   ],
   "metadata": {
    "collapsed": false
   }
  },
  {
   "cell_type": "code",
   "execution_count": 2,
   "outputs": [
    {
     "name": "stdout",
     "text": [
      "+---------+------------------+-------+\n|   Number|    Rounded_Number|Boolean|\n+---------+------------------+-------+\n|40329.105| 60366.64011684273|    yes|\n|36679.973| 88959.61762339315|     no|\n|76965.555|22557.693482004965|     no|\n| 33806.08| 38055.85636759686|    yes|\n|30682.053|  73479.3862687579|     no|\n+---------+------------------+-------+\nonly showing top 5 rows\n\n"
     ],
     "output_type": "stream"
    }
   ],
   "source": [
    "from random import random, randint, choice\n",
    "from pyspark.sql.types import *\n",
    "\n",
    "# generate a row with random numbers of range(0, 100000) and random strings of either 'yes' or 'no'\n",
    "def generate_rand_tuple():\n",
    "    number_1 = randint(0, 100000) + random()\n",
    "    number_2 = randint(0, 100000) + random()\n",
    "    string = choice(['yes', 'no'])\n",
    "    return number_1, number_2, string\n",
    "\n",
    "data = [generate_rand_tuple() for _ in range(100000)]\n",
    "\n",
    "schema = StructType([\n",
    "    StructField('Number', FloatType()),\n",
    "    StructField('Rounded_Number', DoubleType()),\n",
    "    StructField('Boolean', StringType())\n",
    "])\n",
    "\n",
    "sdf = spark.createDataFrame(data=data, schema=schema)\n",
    "sdf.show(n=5)"
   ],
   "metadata": {
    "collapsed": false,
    "pycharm": {
     "name": "#%%\n",
     "is_executing": false
    }
   }
  },
  {
   "cell_type": "markdown",
   "source": [
    "3. Setup and configure **DPLib**\n",
    "\n",
    "DPLib can work with numbers and binary strings. To anonymize a number based column, you have to setup the column \n",
    "category as *'numeric'*. To anonymize a string based column, you have to setup the column category as *'boolean'*.\n",
    "\n",
    "3.1 Initializing the module\n",
    "\n",
    "The module takes in 3 optional parameters when initializing: *Spark DataFrame*, *epsilon* and *delta*. Module can also \n",
    "be initialized without any parameters and they can be added later."
   ],
   "metadata": {
    "collapsed": false,
    "pycharm": {
     "name": "#%% md\n"
    }
   }
  },
  {
   "cell_type": "code",
   "execution_count": 3,
   "outputs": [],
   "source": [
    "from spark_privacy_preserver.differential_privacy import DPLib\n",
    "\n",
    "epsilon = 0.00001\n",
    "delta = 0.5\n",
    "sensitivity = 10\n",
    "\n",
    "# method 1\n",
    "dp = DPLib(global_epsilon=epsilon, global_delta=delta, sdf=sdf)\n",
    "dp.set_global_sensitivity(sensitivity=sensitivity)\n",
    "\n",
    "# method 2\n",
    "dp = DPLib()\n",
    "dp.set_sdf(sdf=sdf)\n",
    "dp.set_global_epsilon_delta(epsilon=epsilon, delta=delta)\n",
    "dp.set_global_sensitivity(sensitivity=sensitivity)"
   ],
   "metadata": {
    "collapsed": false,
    "pycharm": {
     "name": "#%%\n",
     "is_executing": false
    }
   }
  },
  {
   "cell_type": "markdown",
   "source": [
    "**Note:** The reason behind the word *global* in above functions\n",
    "\n",
    "Suppose the user want to anonymize 3 columns of a DataFrame with same epsilon, delta and sensitivity and another \n",
    "column with different parameters. Now all the user has to do is to set up global parameters for 3 columns and \n",
    "local parameters for 4th column. \n",
    "\n",
    "This will simplify when multiple columns of a DataFrame have to be processed with same parameters."
   ],
   "metadata": {
    "collapsed": false
   }
  },
  {
   "cell_type": "markdown",
   "source": [
    "3.2 Configuring columns\n",
    "\n",
    "User can configure columns with column specific parameters. Column specific parameters will be given higher priority \n",
    "over global parameters if explicitly specified.\n",
    "\n",
    "parameters that can be applied to method *set_column()*:\n",
    "1. column_name: name of column as string -> compulsory\n",
    "2. category: category of column. can be either *'numeric'* or *'boolean'* -> compulsory\n",
    "3. epsilon: column specific value -> optional\n",
    "4. delta: column specific value -> optional\n",
    "5. sensitivity: column specific value -> optional\n",
    "6. lower_bound: set minimum number a column can have. can only be applied to category *'numeric'* -> optional\n",
    "7. upper_bound: set maximum number a column can have. can only be applied to category *'numeric'* -> optional\n",
    "8. label1: string label for a column. can only be applied to category *'binary'* -> optional\n",
    "9. label2: string label for a column. can only be applied to category *'binary'* -> optional\n",
    "10. round: value by which to round the result. can only be applied to category *'numeric'* -> optional\n",
    "\n",
    "You can see the results with "
   ],
   "metadata": {
    "collapsed": false,
    "pycharm": {
     "name": "#%% md\n"
    }
   }
  },
  {
   "cell_type": "code",
   "execution_count": 4,
   "outputs": [
    {
     "name": "stdout",
     "text": [
      "Global parameters\n-----------------\n\nEpsilon      1e-05\nDelta        0.5\nSensitivity  10.0\n\n\nColumn specific parameters\n--------------------------\n\n| Column name    | Column category   | Epsilon   | Delta   | Sensitivity   | Lower bound   | Upper bound   | Round   | Label 1   | Label 2   |\n|----------------|-------------------|-----------|---------|---------------|---------------|---------------|---------|-----------|-----------|\n| Number         | numeric           | 1e-05     | 0.5     | 10.0          | -inf          | inf           | --      | --        | --        |\n| Rounded_Number | numeric           | 0.0001    | 0.5     | 100           | 10001         | 90000         | 2       | --        | --        |\n| Boolean        | boolean           | 1e-05     | 0.5     | --            | --            | --            | --      | yes       | no        |\n"
     ],
     "output_type": "stream"
    }
   ],
   "source": [
    "dp.set_column(column_name='Number', \n",
    "              category='numeric')\n",
    "# epsilon, delta, sensitivity will be taken from global parameters and applied.\n",
    "\n",
    "dp.set_column(column_name='Rounded_Number', \n",
    "              category='numeric',\n",
    "              epsilon=epsilon * 10,\n",
    "              sensitivity=sensitivity * 10,\n",
    "              lower_bound=round(sdf.agg({'Rounded_Number': 'min'}).collect()[0][0]) + 10000,\n",
    "              upper_bound=round(sdf.agg({'Rounded_Number': 'max'}).collect()[0][0]) - 10000,\n",
    "              round=2)\n",
    "# epsilon, sensitivity will be taken from user input instead of global parameters\n",
    "# delta will be taken from global parameters.\n",
    "\n",
    "dp.set_column(column_name='Boolean',\n",
    "              category='boolean',\n",
    "              label1='yes',\n",
    "              label2='no',\n",
    "              delta=delta if 0 < delta <= 1 else 0.5)\n",
    "# sensitivity will be taken from user input instead of global parameters\n",
    "# epsilon will be taken from global parameters.\n",
    "# 'boolean' category does not require delta"
   ],
   "metadata": {
    "collapsed": false,
    "pycharm": {
     "name": "#%%\n",
     "is_executing": false
    }
   }
  },
  {
   "cell_type": "markdown",
   "source": [
    "3.2.1 To view existing configuration for the class, use following method"
   ],
   "metadata": {
    "collapsed": false,
    "pycharm": {
     "name": "#%% md\n"
    }
   }
  },
  {
   "cell_type": "code",
   "execution_count": null,
   "outputs": [],
   "source": [
    "dp.get_config()"
   ],
   "metadata": {
    "collapsed": false,
    "pycharm": {
     "name": "#%%\n"
    }
   }
  },
  {
   "cell_type": "markdown",
   "source": [
    "3.2.2 To drop a column or to drop all columns use the *drop_column()* method. \n",
    "To drop all columns use '*' as input parameter"
   ],
   "metadata": {
    "collapsed": false,
    "pycharm": {
     "name": "#%% md\n"
    }
   }
  },
  {
   "cell_type": "code",
   "execution_count": null,
   "outputs": [],
   "source": [
    "# Methods are commented out to show the expected output by execute() method.\n",
    "\n",
    "# dp.drop_column('Rounded_Number', 'Number')\n",
    "# \n",
    "# dp.drop_column('*')"
   ],
   "metadata": {
    "collapsed": false,
    "pycharm": {
     "name": "#%%\n"
    }
   }
  },
  {
   "cell_type": "markdown",
   "source": [
    "3.3 Executing"
   ],
   "metadata": {
    "collapsed": false,
    "pycharm": {
     "name": "#%% md\n"
    }
   }
  },
  {
   "cell_type": "code",
   "execution_count": 5,
   "outputs": [
    {
     "name": "stdout",
     "text": [
      "+---------+------------------+-------+\n|   Number|    Rounded_Number|Boolean|\n+---------+------------------+-------+\n|40329.105| 60366.64011684273|    yes|\n|36679.973| 88959.61762339315|     no|\n|76965.555|22557.693482004965|     no|\n| 33806.08| 38055.85636759686|    yes|\n|30682.053|  73479.3862687579|     no|\n|13896.087|11824.461901693023|     no|\n|26867.273| 91631.10480903032|    yes|\n|29890.742| 45417.69622105617|     no|\n|59479.895| 69705.20448593437|     no|\n| 55834.03| 21509.37016141021|    yes|\n|31670.111| 78238.55472060983|     no|\n| 68889.11|  97264.7537924988|    yes|\n|35789.473|20375.708489157074|     no|\n| 9079.287|61209.137451668474|     no|\n|2364.4885| 70566.17202505756|    yes|\n| 69978.87|49722.278673557616|    yes|\n|18456.021| 21394.83350787455|    yes|\n|22519.188| 63201.41358651086|    yes|\n| 92614.27|24047.902402429238|     no|\n| 9250.084| 99542.50980538227|    yes|\n+---------+------------------+-------+\nonly showing top 20 rows\n\n",
      "+------------------+--------------+-------+\n|            Number|Rounded_Number|Boolean|\n+------------------+--------------+-------+\n|  40336.0320939262|       60363.4|     no|\n| 36674.46739269989|      88903.48|     no|\n| 76965.54449883617|      22535.63|     no|\n|33829.212220981775|       38041.2|    yes|\n|30644.192858772414|       73557.3|     no|\n|13831.832574721937|       11964.3|    yes|\n|26889.904123846984|       90000.0|    yes|\n| 29892.88584407005|      45440.11|     no|\n| 59490.32196860816|      69624.52|     no|\n| 55831.47774291008|      21628.12|    yes|\n|31720.446314139157|      78243.64|     no|\n| 68909.00636555125|       90000.0|    yes|\n|35746.158228581386|      20364.77|     no|\n|  9082.31338692775|      60880.28|     no|\n|2361.5137159314045|      70714.63|     no|\n| 69979.44928724202|      50186.33|    yes|\n|18438.363757241852|      21410.26|    yes|\n|22541.695607586378|      62522.31|    yes|\n| 92615.97010638418|      24172.41|     no|\n| 9253.064320622285|       90000.0|    yes|\n+------------------+--------------+-------+\nonly showing top 20 rows\n\n"
     ],
     "output_type": "stream"
    }
   ],
   "source": [
    "# gets first 20 rows of DataFrame before anonymizing and after anonymizing\n",
    "sdf.show()\n",
    "\n",
    "dp.execute()\n",
    "\n",
    "dp.sdf.show()"
   ],
   "metadata": {
    "collapsed": false,
    "pycharm": {
     "name": "#%%\n",
     "is_executing": false
    }
   }
  },
  {
   "cell_type": "markdown",
   "source": [
    "As you can see, there is a clear difference between original DataFrame and anonymized DataFrame.\n",
    "\n",
    "1. Column *'Number'* is anonymized but the values are not bound to a certain range. The algorithm produces the result \n",
    "with maximum precision as it can achieve.\n",
    "\n",
    "2. Column *'Rounded_Number'* is both anonymized and bounded to the values set by user. As you can see, the values \n",
    "never rise above upper bound and never become lower than lower bound. Also they are rounded to 2nd decimal place as set.\n",
    "\n",
    "3. Column *'Boolean'* undergoes through a mechanism that randomly decides to flip to the other binary value or not, \n",
    "in order to satisfy differential privacy.\n"
   ],
   "metadata": {
    "collapsed": false,
    "pycharm": {
     "name": "#%% md\n",
     "is_executing": false
    }
   }
  }
 ],
 "metadata": {
  "kernelspec": {
   "name": "pycharm-b2afa515",
   "language": "python",
   "display_name": "PyCharm (spark-privacy-preserver)"
  },
  "language_info": {
   "codemirror_mode": {
    "name": "ipython",
    "version": 2
   },
   "file_extension": ".py",
   "mimetype": "text/x-python",
   "name": "python",
   "nbconvert_exporter": "python",
   "pygments_lexer": "ipython2",
   "version": "2.7.6"
  },
  "pycharm": {
   "stem_cell": {
    "cell_type": "raw",
    "source": [],
    "metadata": {
     "collapsed": false
    }
   }
  }
 },
 "nbformat": 4,
 "nbformat_minor": 0
}